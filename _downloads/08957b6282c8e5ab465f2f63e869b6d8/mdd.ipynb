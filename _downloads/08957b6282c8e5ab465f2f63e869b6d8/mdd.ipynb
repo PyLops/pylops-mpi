{
  "cells": [
    {
      "cell_type": "markdown",
      "metadata": {},
      "source": [
        "\n# Multi-Dimensional Deconvolution\nThis example shows how to set-up and run a Multi-Dimensional Deconvolution\nproblem in a distributed fashion, leveraging the :py:class:`pylops_mpi.waveeqprocessing.MDC`\nclass.\n\nMore precisely, compared to its counterpart in the PyLops documentation, this example distributes\nthe frequency slices of the kernel of the MDC operator across multiple processes. Whilst both the\nentire model and data sit on all processes, within the MDC operator, and more precisely when the\n:py:class:`pylops_mpi.signalprocessing.Fredholm1` is called, different groups of frequencies are\nprocessed by the different ranks.\n"
      ]
    },
    {
      "cell_type": "code",
      "execution_count": null,
      "metadata": {
        "collapsed": false
      },
      "outputs": [],
      "source": [
        "import numpy as np\nfrom scipy.signal import filtfilt\nfrom matplotlib import pyplot as plt\nfrom mpi4py import MPI\n\nfrom pylops.utils.seismicevents import hyperbolic2d, makeaxis\nfrom pylops.utils.tapers import taper3d\nfrom pylops.utils.wavelets import ricker\n\nimport pylops_mpi\nfrom pylops_mpi.DistributedArray import local_split, Partition\n\nplt.close(\"all\")\nrank = MPI.COMM_WORLD.Get_rank()\nsize = MPI.COMM_WORLD.Get_size()\ndtype = np.float32\ncdtype = np.complex64"
      ]
    },
    {
      "cell_type": "markdown",
      "metadata": {},
      "source": [
        "Let's start by creating a set of hyperbolic events to be used as\nour MDC kernel as well as the model\n\n"
      ]
    },
    {
      "cell_type": "code",
      "execution_count": null,
      "metadata": {
        "collapsed": false
      },
      "outputs": [],
      "source": [
        "# Input parameters\npar = {\n    \"ox\": -300,\n    \"dx\": 10,\n    \"nx\": 61,\n    \"oy\": -500,\n    \"dy\": 10,\n    \"ny\": 101,\n    \"ot\": 0,\n    \"dt\": 0.004,\n    \"nt\": 400,\n    \"f0\": 20,\n    \"nfmax\": 200,\n}\n\nt0_m = 0.2\nvrms_m = 1100.0\namp_m = 1.0\n\nt0_G = (0.2, 0.5, 0.7)\nvrms_G = (1200.0, 1500.0, 2000.0)\namp_G = (1.0, 0.6, 0.5)\n\n# Taper\ntap = taper3d(par[\"nt\"], (par[\"ny\"], par[\"nx\"]), (5, 5), tapertype=\"hanning\")\n\n# Create axis\nt, t2, x, y = makeaxis(par)\n\n# Create wavelet\nwav = ricker(t[:41], f0=par[\"f0\"])[0]\n\n# Generate model\nmrefl, mwav = hyperbolic2d(x, t, t0_m, vrms_m, amp_m, wav)\n\n# Generate operator\nG, Gwav = np.zeros((par[\"ny\"], par[\"nx\"], par[\"nt\"])), np.zeros(\n    (par[\"ny\"], par[\"nx\"], par[\"nt\"])\n)\nfor iy, y0 in enumerate(y):\n    G[iy], Gwav[iy] = hyperbolic2d(x - y0, t, t0_G, vrms_G, amp_G, wav)\nG, Gwav = G * tap, Gwav * tap\n\n# Add negative part to data and model\nmrefl = np.concatenate((np.zeros((par[\"nx\"], par[\"nt\"] - 1)), mrefl), axis=-1)\nmwav = np.concatenate((np.zeros((par[\"nx\"], par[\"nt\"] - 1)), mwav), axis=-1)\nGwav2 = np.concatenate((np.zeros((par[\"ny\"], par[\"nx\"], par[\"nt\"] - 1)), Gwav), axis=-1)\n\n# Move to frequency\nGwav_fft = np.fft.rfft(Gwav2, 2 * par[\"nt\"] - 1, axis=-1)\nGwav_fft = (Gwav_fft[..., : par[\"nfmax\"]])\n\n# Move frequency/time to first axis\nmrefl, mwav = mrefl.T, mwav.T\nGwav_fft = Gwav_fft.transpose(2, 0, 1)\n\n# Choose how to split frequencies to ranks\nnf = par[\"nfmax\"]\nnf_rank = local_split((nf,), MPI.COMM_WORLD, Partition.SCATTER, 0)\nnf_ranks = np.concatenate(MPI.COMM_WORLD.allgather(nf_rank))\nifin_rank = np.insert(np.cumsum(nf_ranks)[:-1], 0, 0)[rank]\nifend_rank = np.cumsum(nf_ranks)[rank]\n\n# Extract batch of frequency slices (in practice, this will be directly read from input file)\nG = Gwav_fft[ifin_rank:ifend_rank].astype(cdtype)"
      ]
    },
    {
      "cell_type": "markdown",
      "metadata": {},
      "source": [
        "Let's now define the distributed operator and model as well as compute the\ndata\n\n"
      ]
    },
    {
      "cell_type": "code",
      "execution_count": null,
      "metadata": {
        "collapsed": false
      },
      "outputs": [],
      "source": [
        "# Define operator\nMDCop = pylops_mpi.waveeqprocessing.MPIMDC((1.0 * par[\"dt\"] * np.sqrt(par[\"nt\"])) * G,\n                                           nt=2 * par[\"nt\"] - 1, nv=1, nfreq=nf,\n                                           dt=par[\"dt\"], dr=1.0, twosided=True,\n                                           fftengine=\"scipy\", prescaled=True)\n\n# Create model\nm = pylops_mpi.DistributedArray(global_shape=(2 * par[\"nt\"] - 1) * par[\"nx\"] * 1,\n                                partition=Partition.BROADCAST,\n                                dtype=dtype)\nm[:] = mrefl.astype(dtype).ravel()\n\n# Create data\nd = MDCop @ m\ndloc = d.asarray().real.reshape(2 * par[\"nt\"] - 1, par[\"ny\"])"
      ]
    },
    {
      "cell_type": "markdown",
      "metadata": {},
      "source": [
        "Let's display what we have so far: operator, input model, and data\n\n"
      ]
    },
    {
      "cell_type": "code",
      "execution_count": null,
      "metadata": {
        "collapsed": false
      },
      "outputs": [],
      "source": [
        "if rank == 0:\n    fig, axs = plt.subplots(1, 2, figsize=(8, 6))\n    axs[0].imshow(\n        Gwav2[int(par[\"ny\"] / 2)].T,\n        aspect=\"auto\",\n        interpolation=\"nearest\",\n        cmap=\"gray\",\n        vmin=-np.abs(Gwav2.max()),\n        vmax=np.abs(Gwav2.max()),\n        extent=(x.min(), x.max(), t2.max(), t2.min()),\n    )\n    axs[0].set_title(\"G - inline view\", fontsize=15)\n    axs[0].set_xlabel(r\"$x_R$\")\n    axs[1].set_ylabel(r\"$t$\")\n    axs[1].imshow(\n        Gwav2[:, int(par[\"nx\"] / 2)].T,\n        aspect=\"auto\",\n        interpolation=\"nearest\",\n        cmap=\"gray\",\n        vmin=-np.abs(Gwav2.max()),\n        vmax=np.abs(Gwav2.max()),\n        extent=(y.min(), y.max(), t2.max(), t2.min()),\n    )\n    axs[1].set_title(\"G - inline view\", fontsize=15)\n    axs[1].set_xlabel(r\"$x_S$\")\n    axs[1].set_ylabel(r\"$t$\")\n    fig.tight_layout()\n\n    fig, axs = plt.subplots(1, 2, figsize=(8, 6))\n    axs[0].imshow(\n        mwav,\n        aspect=\"auto\",\n        interpolation=\"nearest\",\n        cmap=\"gray\",\n        vmin=-np.abs(mwav.max()),\n        vmax=np.abs(mwav.max()),\n        extent=(x.min(), x.max(), t2.max(), t2.min()),\n    )\n    axs[0].set_title(r\"$m$\", fontsize=15)\n    axs[0].set_xlabel(r\"$x_R$\")\n    axs[0].set_ylabel(r\"$t$\")\n    axs[1].imshow(\n        dloc,\n        aspect=\"auto\",\n        interpolation=\"nearest\",\n        cmap=\"gray\",\n        vmin=-np.abs(dloc.max()),\n        vmax=np.abs(dloc.max()),\n        extent=(x.min(), x.max(), t2.max(), t2.min()),\n    )\n    axs[1].set_title(r\"$d$\", fontsize=15)\n    axs[1].set_xlabel(r\"$x_S$\")\n    axs[1].set_ylabel(r\"$t$\")\n    fig.tight_layout()"
      ]
    },
    {
      "cell_type": "markdown",
      "metadata": {},
      "source": [
        "We are now ready to compute the adjoint (i.e., cross-correlation) and invert\nback for our input model\n\n"
      ]
    },
    {
      "cell_type": "code",
      "execution_count": null,
      "metadata": {
        "collapsed": false
      },
      "outputs": [],
      "source": [
        "# Adjoint\nmadj = MDCop.H @ d\nmadjloc = madj.asarray().real.reshape(2 * par[\"nt\"] - 1, par[\"nx\"])\n\n# Inverse\nm0 = pylops_mpi.DistributedArray(global_shape=(2 * par[\"nt\"] - 1) * par[\"nx\"] * 1,\n                                 partition=Partition.BROADCAST,\n                                 dtype=cdtype)\nm0[:] = 0\nminv = pylops_mpi.cgls(MDCop, d, x0=m0, niter=50, show=True if rank == 0 else False)[0]\nminvloc = minv.asarray().real.reshape(2 * par[\"nt\"] - 1, par[\"nx\"])\n\nif rank == 0:\n    fig = plt.figure(figsize=(8, 6))\n    ax1 = plt.subplot2grid((1, 5), (0, 0), colspan=2)\n    ax2 = plt.subplot2grid((1, 5), (0, 2), colspan=2)\n    ax3 = plt.subplot2grid((1, 5), (0, 4))\n    ax1.imshow(\n        madjloc,\n        aspect=\"auto\",\n        interpolation=\"nearest\",\n        cmap=\"gray\",\n        vmin=-np.abs(madjloc.max()),\n        vmax=np.abs(madjloc.max()),\n        extent=(x.min(), x.max(), t2.max(), t2.min()),\n    )\n    ax1.set_title(\"Adjoint m\", fontsize=15)\n    ax1.set_xlabel(r\"$x_V$\")\n    ax1.set_ylabel(r\"$t$\")\n    ax2.imshow(\n        minvloc,\n        aspect=\"auto\",\n        interpolation=\"nearest\",\n        cmap=\"gray\",\n        vmin=-np.abs(minvloc.max()),\n        vmax=np.abs(minvloc.max()),\n        extent=(x.min(), x.max(), t2.max(), t2.min()),\n    )\n    ax2.set_title(\"Inverted m\", fontsize=15)\n    ax2.set_xlabel(r\"$x_V$\")\n    ax2.set_ylabel(r\"$t$\")\n    ax3.plot(\n        madjloc[:, int(par[\"nx\"] / 2)] / np.abs(madjloc[:, int(par[\"nx\"] / 2)]).max(), t2, \"r\", lw=5\n    )\n    ax3.plot(\n        minvloc[:, int(par[\"nx\"] / 2)] / np.abs(minvloc[:, int(par[\"nx\"] / 2)]).max(), t2, \"k\", lw=3\n    )\n    ax3.set_ylim([t2[-1], t2[0]])\n    fig.tight_layout()"
      ]
    }
  ],
  "metadata": {
    "kernelspec": {
      "display_name": "Python 3",
      "language": "python",
      "name": "python3"
    },
    "language_info": {
      "codemirror_mode": {
        "name": "ipython",
        "version": 3
      },
      "file_extension": ".py",
      "mimetype": "text/x-python",
      "name": "python",
      "nbconvert_exporter": "python",
      "pygments_lexer": "ipython3",
      "version": "3.9.21"
    }
  },
  "nbformat": 4,
  "nbformat_minor": 0
}