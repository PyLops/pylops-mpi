{
  "cells": [
    {
      "cell_type": "markdown",
      "metadata": {},
      "source": [
        "\n# Stacking Operators\n\nThis example shows how to use \"stacking\" operators such as :py:class:`pylops_mpi.basicoperators.MPIVStack`,\n:py:class:`pylops_mpi.basicoperators.MPIHStack` and :py:class:`pylops_mpi.basicoperators.MPIBlockDiag`.\n\nThe operators mentioned above enable the input of various linear operators within a single operator. PyLops-MPI\nutilizes these operators to construct complex operators that are used in various optimization problems\ninvolving regularization and preconditioning.\n\nWithin PyLops-MPI, the :py:class:`pylops_mpi.DistributedArray` is utilized to compute the matrix-vector product for\neach operator contained within the stacking operators. At each rank, every individual operator, or a list of\noperators, performs its matrix-vector product in a distributed manner. Subsequently, the operation returns\na :py:class:`pylops_mpi.DistributedArray`. To obtain the global NumPy array from the DistributedArray, you\ncan use the ``asarray()`` method.\n"
      ]
    },
    {
      "cell_type": "code",
      "execution_count": null,
      "metadata": {
        "collapsed": false
      },
      "outputs": [],
      "source": [
        "import numpy as np\nfrom mpi4py import MPI\nfrom matplotlib import pyplot as plt\n\nimport pylops\n\nimport pylops_mpi\n\nnp.random.seed(42)\nplt.close(\"all\")\nrank = MPI.COMM_WORLD.Get_rank()\nsize = MPI.COMM_WORLD.Get_size()"
      ]
    },
    {
      "cell_type": "markdown",
      "metadata": {},
      "source": [
        "Let's start by defining two instances of the :py:class:`pylops.SecondDerivative`\nwhich will be used in this example.\n\n"
      ]
    },
    {
      "cell_type": "code",
      "execution_count": null,
      "metadata": {
        "collapsed": false
      },
      "outputs": [],
      "source": [
        "D2hop = pylops.SecondDerivative(dims=(11, 22), axis=1, dtype=np.float64)\nD2vop = pylops.SecondDerivative(dims=(11, 22), axis=0, dtype=np.float64)"
      ]
    },
    {
      "cell_type": "markdown",
      "metadata": {},
      "source": [
        "Now, we will look at vertical stacking using the :py:class:`pylops_mpi.basicoperators.MPIVStack`\noperator.\n\n   .. math::\n      \\mathbf{D_{Vstack}} =\n       \\begin{bmatrix}\n         \\mathbf{D_{v}}    \\\\\n         \\mathbf{D_{h}}    \\\\\n         \\vdots    \\\\\n         (i+1) * \\mathbf{D_{v}}    \\\\\n         (i+1) * \\mathbf{D_{h}}    \\\\\n       \\end{bmatrix}, \\qquad\n      \\mathbf{y} =\n       \\begin{bmatrix}\n         \\mathbf{D_{v}}\\mathbf{x}    \\\\\n         \\mathbf{D_{h}}\\mathbf{x}    \\\\\n         \\vdots    \\\\\n         (i+1) * \\mathbf{D_{v}}\\mathbf{x}    \\\\\n         (i+1) * \\mathbf{D_{h}}\\mathbf{x}    \\\\\n       \\end{bmatrix}\n\nAt each rank, the MPIVStack operator takes two operators, $(i+1) * \\mathbf{D_{v}}$\nand $(i+1) * \\mathbf{D_{h}}$, where each rank is indicated by $i$. In\nthis example, the model vector, $x$, is represented as a :py:class:`pylops_mpi.DistributedArray`\nwith the partition set to ``pylops_mpi.Partition.BROADCAST``. At each rank, a\nmatrix-vector product is performed in the forward mode, and the result is stored\nin the variable $y$.\n\n"
      ]
    },
    {
      "cell_type": "code",
      "execution_count": null,
      "metadata": {
        "collapsed": false
      },
      "outputs": [],
      "source": [
        "Nv, Nh = (11, 22)\nX = np.zeros(shape=(Nv, Nh))\nX[Nv // 2, Nh // 2] = 1\nX1 = X.ravel()\nx = pylops_mpi.DistributedArray(global_shape=Nv * Nh, partition=pylops_mpi.Partition.BROADCAST)\nx[:] = X1\nVStack = pylops_mpi.MPIVStack(ops=[(rank + 1) * D2vop, (rank + 1) * D2hop])\ny = VStack @ x\ny_array = y.asarray().reshape(2 * size * Nv, Nh)\n\nif rank == 0:\n    # Visualize\n    fig, ax = plt.subplots(nrows=1, ncols=2, figsize=(10, 3))\n    im1 = ax[0].imshow(X, interpolation=\"nearest\")\n    ax[0].set_title(\"$x$\")\n    ax[0].axis(\"tight\")\n    fig.colorbar(im1, ax=ax[0])\n    im2 = ax[1].imshow(y_array, interpolation=\"nearest\")\n    ax[1].set_title(\"$y$\")\n    ax[1].axis(\"tight\")\n    fig.colorbar(im2, ax=ax[1])\n    fig.suptitle(\"Vertical Stacking\", fontsize=14, fontweight=\"bold\")"
      ]
    },
    {
      "cell_type": "markdown",
      "metadata": {},
      "source": [
        "Now, let's take a look at the :py:class:`pylops_mpi.basicoperators.MPIHStack`\noperator, which is specifically designed to horizontally stack linear operators\nin a distributed fashion.\n\n   .. math::\n      \\mathbf{D_{Hstack}} =\n       \\begin{bmatrix}\n         \\mathbf{D_{v}} & \\mathbf{D_{h}} & \\ldots &\n         (i+1) * \\mathbf{D_{v}} & (i+1) * \\mathbf{D_{h}}    \\\\\n       \\end{bmatrix} \\qquad \\\\ \\\\\n      \\mathbf{y} =\n       \\begin{bmatrix}\n         \\mathbf{D_{v}}\\mathbf{x_{1}} + \\mathbf{D_{h}}\\mathbf{x_{2}}\n         + \\ldots + (i+1) * \\mathbf{D_{v}}\\mathbf{x_{n-1}}\n         + (i+1) * \\mathbf{D_{h}}\\mathbf{x_{n}}    \\\\\n       \\end{bmatrix}\n\nSimilar to the MPIVStack, the MPIHStack also contains two operators at\neach rank, and the model vector $x$ is a DistributedArray, but\nthis time the partition is set to ``pylops_mpi.Partition.SCATTER``.\nEach operator performs the matrix-vector product with its\ncorresponding $x$. The final result undergoes a sum-reduction,\nand is stored in the variable $y$.\n\n"
      ]
    },
    {
      "cell_type": "code",
      "execution_count": null,
      "metadata": {
        "collapsed": false
      },
      "outputs": [],
      "source": [
        "Nv, Nh = (11, 22)\nX = np.zeros(shape=(Nv * 2, Nh))\nX[Nv // 2, Nh // 2] = 1\nX[Nv // 2 + Nv, Nh // 2] = 1\nX1 = X.ravel()\nx = pylops_mpi.DistributedArray(global_shape=2 * size * Nv * Nh, partition=pylops_mpi.Partition.SCATTER)\nx[:] = X1\nHStack = pylops_mpi.MPIHStack(ops=[(rank + 1) * D2vop, (rank + 1) * D2hop])\ny = HStack @ x\ny_array = y.asarray().reshape(Nv, Nh)\n\nif rank == 0:\n    # Visualize\n    fig, ax = plt.subplots(nrows=1, ncols=2, figsize=(10, 3))\n    im1 = ax[0].imshow(X, interpolation=\"nearest\")\n    ax[0].set_title(\"$x$\")\n    ax[0].axis(\"tight\")\n    fig.colorbar(im1, ax=ax[0])\n    im2 = ax[1].imshow(y_array, interpolation=\"nearest\")\n    ax[1].set_title(\"$y$\")\n    ax[1].axis(\"tight\")\n    fig.colorbar(im2, ax=ax[1])\n    fig.suptitle(\"Horizontal Stacking\", fontsize=14, fontweight=\"bold\")"
      ]
    },
    {
      "cell_type": "markdown",
      "metadata": {},
      "source": [
        "Finally, we can use the :py:class:`pylops_mpi.basicoperators.MPIBlockDiag` to\napply operators to different subset of the model and data.\n\n  .. math::\n      \\mathbf{D_{BDiag}} =\n       \\begin{bmatrix}\n         \\mathbf{D_{v}} & \\mathbf{0} & \\ldots &\\ldots & \\mathbf{0}    \\\\\n         \\mathbf{0} & \\mathbf{D_{h}} & \\ldots & \\ldots & \\mathbf{0}   \\\\\n         \\vdots & \\vdots & \\ddots & \\ldots & \\vdots    \\\\\n         \\vdots & \\vdots & \\ldots & (i+1) * \\mathbf{D_{v}} & \\vdots    \\\\\n         \\mathbf{0} & \\mathbf{0} & \\ldots & \\ldots & (i+1) * \\mathbf{D_{h}}    \\\\\n       \\end{bmatrix} \\qquad\n      \\mathbf{y} =\n       \\begin{bmatrix}\n         \\mathbf{D_{v}}\\mathbf{x_{1}}    \\\\\n         \\mathbf{D_{h}}\\mathbf{x_{2}}    \\\\\n         \\vdots    \\\\\n         (i+1) * \\mathbf{D_{v}}\\mathbf{x_{n-1}}    \\\\\n         (i+1) * \\mathbf{D_{h}}\\mathbf{x_{n}}      \\\\\n       \\end{bmatrix}\n\nEach operator performs its matrix-vector product in forward mode with its\ncorresponding vector $x$.\n\n"
      ]
    },
    {
      "cell_type": "code",
      "execution_count": null,
      "metadata": {
        "collapsed": false
      },
      "outputs": [],
      "source": [
        "Nv, Nh = (11, 22)\nBDiag = pylops_mpi.MPIBlockDiag(ops=[(rank + 1) * D2vop, (rank + 1) * D2hop])\ny = BDiag @ x\ny_array = y.asarray().reshape(2 * size * Nv, Nh)\n\nif rank == 0:\n    # Visualize\n    fig, ax = plt.subplots(nrows=1, ncols=2, figsize=(10, 3))\n    im1 = ax[0].imshow(X, interpolation=\"nearest\")\n    ax[0].set_title(\"$x$\")\n    ax[0].axis(\"tight\")\n    fig.colorbar(im1, ax=ax[0])\n    im2 = ax[1].imshow(y_array, interpolation=\"nearest\")\n    ax[1].set_title(\"$y$\")\n    ax[1].axis(\"tight\")\n    fig.colorbar(im2, ax=ax[1])\n    fig.suptitle(\"Block Diagonal\", fontsize=14, fontweight=\"bold\")"
      ]
    }
  ],
  "metadata": {
    "kernelspec": {
      "display_name": "Python 3",
      "language": "python",
      "name": "python3"
    },
    "language_info": {
      "codemirror_mode": {
        "name": "ipython",
        "version": 3
      },
      "file_extension": ".py",
      "mimetype": "text/x-python",
      "name": "python",
      "nbconvert_exporter": "python",
      "pygments_lexer": "ipython3",
      "version": "3.9.19"
    }
  },
  "nbformat": 4,
  "nbformat_minor": 0
}