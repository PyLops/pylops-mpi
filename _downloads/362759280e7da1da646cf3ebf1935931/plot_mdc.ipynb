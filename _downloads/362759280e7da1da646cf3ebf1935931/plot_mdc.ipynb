{
  "cells": [
    {
      "cell_type": "markdown",
      "metadata": {},
      "source": [
        "\n# Multi-Dimensional Convolution\nThis example shows how to use the :py:class:`pylops_mpi.waveeqprocessing.MPIMDC` operator\nto convolve a 3D kernel with an input seismic data in a distributed fashion (where\nparallelism is harnessed over the frequency axis when performing repeated matrix-vector\nor matrix-matrix multiplications).\n"
      ]
    },
    {
      "cell_type": "code",
      "execution_count": null,
      "metadata": {
        "collapsed": false
      },
      "outputs": [],
      "source": [
        "from matplotlib import pyplot as plt\nimport numpy as np\nfrom mpi4py import MPI\nfrom pylops.utils.seismicevents import hyperbolic2d, makeaxis\nfrom pylops.utils.tapers import taper3d\nfrom pylops.utils.wavelets import ricker\n\nfrom pylops_mpi.DistributedArray import local_split, Partition\nimport pylops_mpi\n\nplt.close(\"all\")\nnp.random.seed(42)\n\nrank = MPI.COMM_WORLD.Get_rank()\nsize = MPI.COMM_WORLD.Get_size()\ndtype = np.float32\ncdtype = np.complex64"
      ]
    },
    {
      "cell_type": "markdown",
      "metadata": {},
      "source": [
        "Let's start by creating a set of hyperbolic events to be used as our MDC kernel\n\n"
      ]
    },
    {
      "cell_type": "code",
      "execution_count": null,
      "metadata": {
        "collapsed": false
      },
      "outputs": [],
      "source": [
        "# Input parameters\npar = {\n    \"ox\": -300,\n    \"dx\": 10,\n    \"nx\": 61,\n    \"oy\": -500,\n    \"dy\": 10,\n    \"ny\": 101,\n    \"ot\": 0,\n    \"dt\": 0.004,\n    \"nt\": 400,\n    \"f0\": 20,\n    \"nfmax\": 200,\n}\n\nt0_m = 0.2\nvrms_m = 1100.0\namp_m = 1.0\n\nt0_G = (0.2, 0.5, 0.7)\nvrms_G = (1200.0, 1500.0, 2000.0)\namp_G = (1.0, 0.6, 0.5)\n\n# Taper\ntap = taper3d(par[\"nt\"], (par[\"ny\"], par[\"nx\"]), (5, 5), tapertype=\"hanning\")\n\n# Create axis\nt, t2, x, y = makeaxis(par)\n\n# Create wavelet\nwav = ricker(t[:41], f0=par[\"f0\"])[0]\n\n# Generate model\nm, mwav = hyperbolic2d(x, t, t0_m, vrms_m, amp_m, wav)\n\n# Generate operator\nG, Gwav = np.zeros((par[\"ny\"], par[\"nx\"], par[\"nt\"])), np.zeros(\n    (par[\"ny\"], par[\"nx\"], par[\"nt\"])\n)\nfor iy, y0 in enumerate(y):\n    G[iy], Gwav[iy] = hyperbolic2d(x - y0, t, t0_G, vrms_G, amp_G, wav)\nG, Gwav = G * tap, Gwav * tap\n\n# Add negative part to data and model\nm = np.concatenate((np.zeros((par[\"nx\"], par[\"nt\"] - 1)), m), axis=-1)\nmwav = np.concatenate((np.zeros((par[\"nx\"], par[\"nt\"] - 1)), mwav), axis=-1)\nGwav2 = np.concatenate((np.zeros((par[\"ny\"], par[\"nx\"], par[\"nt\"] - 1)), Gwav), axis=-1)\n\n# Move to frequency\nGwav_fft = np.fft.rfft(Gwav2, 2 * par[\"nt\"] - 1, axis=-1)\nGwav_fft = Gwav_fft[..., : par[\"nfmax\"]]\n\n# Move frequency/time to first axis\nm, mwav = m.T, mwav.T\nGwav_fft = Gwav_fft.transpose(2, 0, 1)"
      ]
    },
    {
      "cell_type": "markdown",
      "metadata": {},
      "source": [
        "Now that we have created the kernel of our MDC operator in ``Gwav_fft``, we\nare ready to define a strategy on how to split it along the first\n(i.e., frequency) axis over different ranks. In practical applications, one\nwould of course pre-compute the kernel and just load the relevant part in\neach rank from file.\n\n"
      ]
    },
    {
      "cell_type": "code",
      "execution_count": null,
      "metadata": {
        "collapsed": false
      },
      "outputs": [],
      "source": [
        "# Choose how to split sources to ranks\nnf = par[\"nfmax\"]\nnf_rank = local_split((nf, ), MPI.COMM_WORLD, Partition.SCATTER, 0)\nnf_ranks = np.concatenate(MPI.COMM_WORLD.allgather(nf_rank))\nifin_rank = np.insert(np.cumsum(nf_ranks)[:-1] , 0, 0)[rank]\nifend_rank = np.cumsum(nf_ranks)[rank]\nprint(f'Rank: {rank}, nf: {nf_rank}, ifin: {ifin_rank}, ifend: {ifend_rank}')\n\n# Extract part of kernel of interest\nG = Gwav_fft[ifin_rank:ifend_rank].astype(cdtype)\nprint(f'Rank: {rank}, G: {G.shape}')"
      ]
    },
    {
      "cell_type": "markdown",
      "metadata": {},
      "source": [
        "We can finally create the MDC operator using\n:py:class:`pylops_mpi.waveeqprocessing.MPIMDC` so that the most\ndemanding computations can be run in parallel.\n\n"
      ]
    },
    {
      "cell_type": "code",
      "execution_count": null,
      "metadata": {
        "collapsed": false
      },
      "outputs": [],
      "source": [
        "# Define operator\nFop = pylops_mpi.waveeqprocessing.MPIMDC(\n    G, nt=2 * par[\"nt\"] - 1, nv=1, nfreq=nf,\n    dt=0.004, dr=1.0, twosided=True)\n\n# Apply forward\nmd = pylops_mpi.DistributedArray(global_shape=(2 * par[\"nt\"] - 1) * par[\"nx\"] * 1,\n                                 partition=pylops_mpi.Partition.BROADCAST,\n                                 dtype=dtype)\nmd[:] = m.astype(dtype).ravel()\n\ndd = Fop @ md\nd = dd.asarray().real\nd = d.reshape(2 * par[\"nt\"] - 1, par[\"ny\"])\n\n# Apply adjoint\nmadjd = Fop.H @ dd\nmadj = madjd.asarray().real\nmadj = madj.reshape(2 * par[\"nt\"] - 1, par[\"nx\"])"
      ]
    },
    {
      "cell_type": "markdown",
      "metadata": {},
      "source": [
        "Finally let's display input model, data and adjoint model\n\n"
      ]
    },
    {
      "cell_type": "code",
      "execution_count": null,
      "metadata": {
        "collapsed": false
      },
      "outputs": [],
      "source": [
        "if rank == 0:\n    fig, axs = plt.subplots(1, 3, figsize=(9, 6))\n    axs[0].imshow(\n        mwav,\n        aspect=\"auto\",\n        interpolation=\"nearest\",\n        cmap=\"gray\",\n        vmin=-mwav.max(),\n        vmax=mwav.max(),\n        extent=(x.min(), x.max(), t2.max(), t2.min()),\n    )\n    axs[0].set_title(r\"$m$\", fontsize=15)\n    axs[0].set_xlabel(\"r\")\n    axs[0].set_ylabel(\"t\")\n    axs[1].imshow(\n        d,\n        aspect=\"auto\",\n        interpolation=\"nearest\",\n        cmap=\"gray\",\n        vmin=-d.max(),\n        vmax=d.max(),\n        extent=(x.min(), x.max(), t2.max(), t2.min()),\n    )\n    axs[1].set_title(r\"$d$\", fontsize=15)\n    axs[1].set_xlabel(\"s\")\n    axs[1].set_ylabel(\"t\")\n    axs[2].imshow(\n        madj,\n        aspect=\"auto\",\n        interpolation=\"nearest\",\n        cmap=\"gray\",\n        vmin=-madj.max(),\n        vmax=madj.max(),\n        extent=(x.min(), x.max(), t2.max(), t2.min()),\n    )\n    axs[2].set_title(r\"$m_{adj}$\", fontsize=15)\n    axs[2].set_xlabel(\"s\")\n    axs[2].set_ylabel(\"t\")\n    fig.tight_layout()"
      ]
    }
  ],
  "metadata": {
    "kernelspec": {
      "display_name": "Python 3",
      "language": "python",
      "name": "python3"
    },
    "language_info": {
      "codemirror_mode": {
        "name": "ipython",
        "version": 3
      },
      "file_extension": ".py",
      "mimetype": "text/x-python",
      "name": "python",
      "nbconvert_exporter": "python",
      "pygments_lexer": "ipython3",
      "version": "3.9.19"
    }
  },
  "nbformat": 4,
  "nbformat_minor": 0
}