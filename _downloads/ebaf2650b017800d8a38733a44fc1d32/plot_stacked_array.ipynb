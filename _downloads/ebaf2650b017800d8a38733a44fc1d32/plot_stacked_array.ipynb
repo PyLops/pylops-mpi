{
  "cells": [
    {
      "cell_type": "markdown",
      "metadata": {},
      "source": [
        "\n# Stacked Array\nThis example shows how to use the :py:class:`pylops_mpi.StackedDistributedArray`.\nThis class provides a way to combine and act on multiple :py:class:`pylops_mpi.DistributedArray`\nwithin the same program. This is very useful in scenarios where an array can be logically\ndivided in subarrays and each of them lends naturally to distribution across multiple processes in\na parallel computing environment.\n"
      ]
    },
    {
      "cell_type": "code",
      "execution_count": null,
      "metadata": {
        "collapsed": false
      },
      "outputs": [],
      "source": [
        "from matplotlib import pyplot as plt\nimport numpy as np\nfrom mpi4py import MPI\n\nimport pylops\nimport pylops_mpi\n\nplt.close(\"all\")\nnp.random.seed(42)\nrank = MPI.COMM_WORLD.Get_rank()\nsize = MPI.COMM_WORLD.Get_size()"
      ]
    },
    {
      "cell_type": "markdown",
      "metadata": {},
      "source": [
        "Let's start by defining two distributed array\n\n"
      ]
    },
    {
      "cell_type": "code",
      "execution_count": null,
      "metadata": {
        "collapsed": false
      },
      "outputs": [],
      "source": [
        "subarr1 = pylops_mpi.DistributedArray(global_shape=size * 10,\n                                      partition=pylops_mpi.Partition.SCATTER,\n                                      axis=0)\nsubarr2 = pylops_mpi.DistributedArray(global_shape=size * 4,\n                                      partition=pylops_mpi.Partition.SCATTER,\n                                      axis=0)\n# Filling the local arrays\nsubarr1[:], subarr2[:] = 1, 2"
      ]
    },
    {
      "cell_type": "markdown",
      "metadata": {},
      "source": [
        "We combine them into a single\n:py:class:`pylops_mpi.StackedDistributedArray` object.\n\n"
      ]
    },
    {
      "cell_type": "code",
      "execution_count": null,
      "metadata": {
        "collapsed": false
      },
      "outputs": [],
      "source": [
        "arr1 = pylops_mpi.StackedDistributedArray([subarr1, subarr2])\nif rank == 0:\n    print('Stacked array:', arr1)\n\n# Extract and print full array\nfull_arr1 = arr1.asarray()\nif rank == 0:\n    print('Full array:', full_arr1)\n\n# Modify the part of the first array in rank0\nif rank == 0:\n    arr1[0][:] = 10\nfull_arr1 = arr1.asarray()\nif rank == 0:\n    print('Modified full array:', full_arr1)"
      ]
    },
    {
      "cell_type": "markdown",
      "metadata": {},
      "source": [
        "Let's now create a second :py:class:`pylops_mpi.StackedDistributedArray` object\nand perform different mathematical operations on those two objects.\n\n"
      ]
    },
    {
      "cell_type": "code",
      "execution_count": null,
      "metadata": {
        "collapsed": false
      },
      "outputs": [],
      "source": [
        "subarr1_ = pylops_mpi.DistributedArray(global_shape=size * 10,\n                                       partition=pylops_mpi.Partition.SCATTER,\n                                       axis=0)\nsubarr2_ = pylops_mpi.DistributedArray(global_shape=size * 4,\n                                       partition=pylops_mpi.Partition.SCATTER,\n                                       axis=0)\n# Filling the local arrays\nsubarr1_[:], subarr2_[:] = 5, 6\narr2 = pylops_mpi.StackedDistributedArray([subarr1_, subarr2_])\nif rank == 0:\n    print('Stacked array 2:', arr2)\n\nfull_arr2 = arr2.asarray()\nif rank == 0:\n    print('Full array2:', full_arr2)"
      ]
    },
    {
      "cell_type": "markdown",
      "metadata": {},
      "source": [
        "**Negation**\n\n"
      ]
    },
    {
      "cell_type": "code",
      "execution_count": null,
      "metadata": {
        "collapsed": false
      },
      "outputs": [],
      "source": [
        "neg_arr = -arr1\nfull_neg_arr = neg_arr.asarray()\nif rank == 0:\n    print('Negated full array:', full_neg_arr)"
      ]
    },
    {
      "cell_type": "markdown",
      "metadata": {},
      "source": [
        "**Element-wise Addition**\n\n"
      ]
    },
    {
      "cell_type": "code",
      "execution_count": null,
      "metadata": {
        "collapsed": false
      },
      "outputs": [],
      "source": [
        "sum_arr = arr1 + arr2\nfull_sum_arr = sum_arr.asarray()\nif rank == 0:\n    print('Summed full array:', full_sum_arr)"
      ]
    },
    {
      "cell_type": "markdown",
      "metadata": {},
      "source": [
        "**Element-wise Subtraction**\n\n"
      ]
    },
    {
      "cell_type": "code",
      "execution_count": null,
      "metadata": {
        "collapsed": false
      },
      "outputs": [],
      "source": [
        "sub_arr = arr1 - arr2\nfull_sub_arr = sub_arr.asarray()\nif rank == 0:\n    print('Subtracted full array:', full_sub_arr)"
      ]
    },
    {
      "cell_type": "markdown",
      "metadata": {},
      "source": [
        "**Multiplication**\n\n"
      ]
    },
    {
      "cell_type": "code",
      "execution_count": null,
      "metadata": {
        "collapsed": false
      },
      "outputs": [],
      "source": [
        "mult_arr = arr1 * arr2\nfull_mult_arr = mult_arr.asarray()\nif rank == 0:\n    print('Multipled full array:', full_mult_arr)"
      ]
    },
    {
      "cell_type": "markdown",
      "metadata": {},
      "source": [
        "**Dot-product**\n\n"
      ]
    },
    {
      "cell_type": "code",
      "execution_count": null,
      "metadata": {
        "collapsed": false
      },
      "outputs": [],
      "source": [
        "dot_arr = arr1.dot(arr2)\nif rank == 0:\n    print('Dot-product:', dot_arr)\n    print('Dot-product (np):', np.dot(full_arr1, full_arr2))"
      ]
    },
    {
      "cell_type": "markdown",
      "metadata": {},
      "source": [
        "**Norms**\n\n"
      ]
    },
    {
      "cell_type": "code",
      "execution_count": null,
      "metadata": {
        "collapsed": false
      },
      "outputs": [],
      "source": [
        "l0norm = arr1.norm(0)\nl1norm = arr1.norm(1)\nl2norm = arr1.norm(2)\nlinfnorm = arr1.norm(np.inf)\n\nif rank == 0:\n    print('L0 norm', l0norm, np.linalg.norm(full_arr1, 0))\n    print('L1 norm', l1norm, np.linalg.norm(full_arr1, 1))\n    print('L2 norm', l2norm, np.linalg.norm(full_arr1, 2))\n    print('Linf norm', linfnorm, np.linalg.norm(full_arr1, np.inf))"
      ]
    },
    {
      "cell_type": "markdown",
      "metadata": {},
      "source": [
        "Now that we have a way to stack multiple :py:class:`pylops_mpi.StackedDistributedArray` objects,\nlet's see how we can apply operators to them. More specifically this can be\ndone using the :py:class:`pylops_mpi.MPIStackedVStack` operator that takes multiple\n:py:class:`pylops_mpi.MPILinearOperator` objects, each acting on one specific\ndistributed array\n\n"
      ]
    },
    {
      "cell_type": "code",
      "execution_count": null,
      "metadata": {
        "collapsed": false
      },
      "outputs": [],
      "source": [
        "x = pylops_mpi.DistributedArray(global_shape=size * 10,\n                                partition=pylops_mpi.Partition.SCATTER,\n                                axis=0)\n# Filling the local arrays\nx[:] = 1.\n\n# Make stacked operator\nmop1 = pylops_mpi.MPIBlockDiag([pylops.MatrixMult(np.ones((5, 10))), ])\nmop2 = pylops_mpi.MPIBlockDiag([pylops.MatrixMult(2 * np.ones((8, 10))), ])\nmop = pylops_mpi.MPIStackedVStack([mop1, mop2])\n\ny = mop.matvec(x)\ny_arr = y.asarray()\nxadj = mop.rmatvec(y)\nxadj_arr = xadj.asarray()\n\nif rank == 0:\n    print('StackedVStack y', y, y_arr, y_arr.shape)\n    print('StackedVStack xadj', xadj, xadj_arr, xadj_arr.shape)"
      ]
    },
    {
      "cell_type": "markdown",
      "metadata": {},
      "source": [
        "Finally, let's solve now an inverse problem using stacked arrays instead\nof distributed arrays\n\n"
      ]
    },
    {
      "cell_type": "code",
      "execution_count": null,
      "metadata": {
        "collapsed": false
      },
      "outputs": [],
      "source": [
        "x0 = x.copy()\nx0[:] = 0.\nxinv = pylops_mpi.cgls(mop, y, x0=x0, niter=15, tol=1e-10, show=False)[0]\nxinv_array = xinv.asarray()\n\nif rank == 0:\n    print('xinv_array', xinv_array)"
      ]
    }
  ],
  "metadata": {
    "kernelspec": {
      "display_name": "Python 3",
      "language": "python",
      "name": "python3"
    },
    "language_info": {
      "codemirror_mode": {
        "name": "ipython",
        "version": 3
      },
      "file_extension": ".py",
      "mimetype": "text/x-python",
      "name": "python",
      "nbconvert_exporter": "python",
      "pygments_lexer": "ipython3",
      "version": "3.11.12"
    }
  },
  "nbformat": 4,
  "nbformat_minor": 0
}