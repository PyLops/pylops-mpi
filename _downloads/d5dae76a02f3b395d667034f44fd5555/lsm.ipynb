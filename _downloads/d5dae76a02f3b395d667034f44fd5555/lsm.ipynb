{
  "cells": [
    {
      "cell_type": "markdown",
      "metadata": {},
      "source": [
        "\n# Least-squares Migration\nSeismic migration involves the manipulation of seismic data to create an image of subsurface reflectivity.\n\nWe solve the inverse of the demigration operator to obtain accurate and detailed sub surface images.\nRegardless of the choice of the modelling operator (i.e., ray-based or full wavefield-based), the\ndemigration/migration process can be expressed as a linear operator of such kind:\n\n\\begin{align}d(\\mathbf{x_r}, \\mathbf{x_s}, t) =\n        w(t) * \\int\\limits_V G(\\mathbf{x}, \\mathbf{x_s}, t)\n        G(\\mathbf{x_r}, \\mathbf{x}, t) m(\\mathbf{x})\\,\\mathrm{d}\\mathbf{x}\\end{align}\n\nwhere $m(\\mathbf{x})$ is the reflectivity at every location in the subsurface,\n$G(\\mathbf{x}, \\mathbf{x_s}, t)$ and $G(\\mathbf{x_r}, \\mathbf{x}, t)$\nare the Green's functions from source-to-subsurface-to-receiver and finally  $w(t)$\nis the wavelet. Ultimately, while the Green's functions can be computed in many ways,\nsolving this system of equations for the reflectivity model is what we generally\nrefer to as Least-squares migration (LSM).\n\nWe can easily set up this problem where sources are distributed across different ranks,\nand each :class:`pylops.waveeqprocessing.LSM` is responsible for performing modelling\nwith the reflectivity at each rank in the subsurface. In a compact matrix-vector notation,\nthis problem can be written as:\n\n\\begin{align}\\begin{bmatrix}\n        \\mathbf{d}_{1}    \\\\\n        \\mathbf{d}_{2}    \\\\\n        \\vdots    \\\\\n        \\mathbf{d}_{N}\n    \\end{bmatrix} =\n    \\begin{bmatrix}\n        \\mathbf{L}_1    \\\\\n        \\mathbf{L}_2    \\\\\n        \\vdots    \\\\\n        \\mathbf{L}_n\n    \\end{bmatrix} m\\end{align}\n\nwhere $\\mathbf{L}_i$ is a least-squares modelling operator, $\\mathbf{d}_i$\nis the data, and $m$ is the broadcasted reflectivity at every location on the subsurface.\n\nIn this tutorial, we will use the :class:`pylops_mpi.basicoperators.MPIVStack` to perform\nvertical stacking of LSMs and solve our problem.\n"
      ]
    },
    {
      "cell_type": "code",
      "execution_count": null,
      "metadata": {
        "collapsed": false
      },
      "outputs": [],
      "source": [
        "import warnings\nwarnings.filterwarnings('ignore')\n\nimport numpy as np\nfrom matplotlib import pyplot as plt\nfrom mpi4py import MPI\n\nfrom pylops.utils.wavelets import ricker\nfrom pylops.waveeqprocessing.lsm import LSM\n\nimport pylops_mpi\n\nnp.random.seed(42)\nplt.close(\"all\")\nrank = MPI.COMM_WORLD.Get_rank()\nsize = MPI.COMM_WORLD.Get_size()"
      ]
    },
    {
      "cell_type": "markdown",
      "metadata": {},
      "source": [
        "Let's start with a simple model with two interfaces, where sources are distributed\nacross different ranks.\n\n"
      ]
    },
    {
      "cell_type": "code",
      "execution_count": null,
      "metadata": {
        "collapsed": false
      },
      "outputs": [],
      "source": [
        "# Velocity Model\nnx, nz = 81, 60\ndx, dz = 4, 4\nx, z = np.arange(nx) * dx, np.arange(nz) * dz\nv0 = 1000  # initial velocity\nkv = 0.0  # gradient\nvel = np.outer(np.ones(nx), v0 + kv * z)\n\n# Reflectivity Model\nrefl = np.zeros((nx, nz))\nrefl[:, 30] = -1\nrefl[:, 50] = 0.5\n\n# Receivers\nnr = 11\nrx = np.linspace(10 * dx, (nx - 10) * dx, nr)\nrz = 20 * np.ones(nr)\nrecs = np.vstack((rx, rz))\n\n# Sources\nns = 10\n# Total number of sources at all ranks\nnstot = MPI.COMM_WORLD.allreduce(ns, op=MPI.SUM)\nsxtot = np.linspace(dx * 10, (nx - 10) * dx, nstot)\nsx = sxtot[rank * ns: (rank + 1) * ns]\nsztot = 10 * np.ones(nstot)\nsz = 10 * np.ones(ns)\nsources = np.vstack((sx, sz))\nsources_tot = np.vstack((sxtot, sztot))\n\nif rank == 0:\n    plt.figure(figsize=(10, 5))\n    im = plt.imshow(vel.T, cmap=\"summer\", extent=(x[0], x[-1], z[-1], z[0]))\n    plt.scatter(recs[0], recs[1], marker=\"v\", s=150, c=\"b\", edgecolors=\"k\")\n    plt.scatter(sources_tot[0], sources_tot[1], marker=\"*\", s=150, c=\"r\", edgecolors=\"k\")\n    cb = plt.colorbar(im)\n    cb.set_label(\"[m/s]\")\n    plt.axis(\"tight\")\n    plt.xlabel(\"x [m]\"), plt.ylabel(\"z [m]\")\n    plt.title(\"Velocity\")\n    plt.xlim(x[0], x[-1])\n    plt.tight_layout()\n\n    plt.figure(figsize=(10, 5))\n    im = plt.imshow(refl.T, cmap=\"gray\", extent=(x[0], x[-1], z[-1], z[0]))\n    plt.scatter(recs[0], recs[1], marker=\"v\", s=150, c=\"b\", edgecolors=\"k\")\n    plt.scatter(sources_tot[0], sources_tot[1], marker=\"*\", s=150, c=\"r\", edgecolors=\"k\")\n    plt.colorbar(im)\n    plt.axis(\"tight\")\n    plt.xlabel(\"x [m]\"), plt.ylabel(\"z [m]\")\n    plt.title(\"Reflectivity\")\n    plt.xlim(x[0], x[-1])\n    plt.tight_layout()"
      ]
    },
    {
      "cell_type": "markdown",
      "metadata": {},
      "source": [
        "We create a :py:class:`pylops.waveeqprocessing.LSM` at each rank and then push them\ninto a :py:class:`pylops_mpi.basicoperators.MPIVStack` to perform a matrix-vector\nproduct with the broadcasted reflectivity at every location on the subsurface.\n\n"
      ]
    },
    {
      "cell_type": "code",
      "execution_count": null,
      "metadata": {
        "collapsed": false
      },
      "outputs": [],
      "source": [
        "# Wavelet\nnt = 651\ndt = 0.004\nt = np.arange(nt) * dt\nwav, wavt, wavc = ricker(t[:41], f0=20)\n\nlsm = LSM(\n    z,\n    x,\n    t,\n    sources,\n    recs,\n    v0,\n    wav,\n    wavc,\n    mode=\"analytic\",\n    engine=\"numba\",\n)\n\nVStack = pylops_mpi.MPIVStack(ops=[lsm.Demop, ])\nrefl_dist = pylops_mpi.DistributedArray(global_shape=nx * nz, partition=pylops_mpi.Partition.BROADCAST)\nrefl_dist[:] = refl.flatten()\nd_dist = VStack @ refl_dist\nd = d_dist.asarray().reshape((nstot, nr, nt))"
      ]
    },
    {
      "cell_type": "code",
      "execution_count": null,
      "metadata": {
        "collapsed": false
      },
      "outputs": [],
      "source": [
        "# Adjoint\nmadj_dist = VStack.H @ d_dist\nmadj = madj_dist.asarray().reshape((nx, nz))\nd_adj_dist = VStack @ madj_dist\nd_adj = d_adj_dist.asarray().reshape((nstot, nr, nt))"
      ]
    },
    {
      "cell_type": "markdown",
      "metadata": {},
      "source": [
        "We calculate the inverse using the :py:func:`pylops_mpi.optimization.basic.cgls`\nsolver.\n\n"
      ]
    },
    {
      "cell_type": "code",
      "execution_count": null,
      "metadata": {
        "collapsed": false
      },
      "outputs": [],
      "source": [
        "# Inverse\n# Initializing x0 to zeroes\nx0 = pylops_mpi.DistributedArray(VStack.shape[1], partition=pylops_mpi.Partition.BROADCAST)\nx0[:] = 0\nminv_dist = pylops_mpi.cgls(VStack, d_dist, x0=x0, niter=100, show=True)[0]\nminv = minv_dist.asarray().reshape((nx, nz))\nd_inv_dist = VStack @ minv_dist\nd_inv = d_inv_dist.asarray().reshape(nstot, nr, nt)"
      ]
    },
    {
      "cell_type": "code",
      "execution_count": null,
      "metadata": {
        "collapsed": false
      },
      "outputs": [],
      "source": [
        "if rank == 0:\n    # Visualize\n    fig1, axs = plt.subplots(1, 3, figsize=(10, 3))\n    axs[0].imshow(refl.T, cmap=\"gray\", vmin=-1, vmax=1)\n    axs[0].axis(\"tight\")\n    axs[0].set_title(r\"$m$\")\n    axs[1].imshow(madj.T, cmap=\"gray\", vmin=-madj.max(), vmax=madj.max())\n    axs[1].set_title(r\"$m_{adj}$\")\n    axs[1].axis(\"tight\")\n    axs[2].imshow(minv.T, cmap=\"gray\", vmin=-1, vmax=1)\n    axs[2].axis(\"tight\")\n    axs[2].set_title(r\"$m_{inv}$\")\n    plt.tight_layout()\n\n    fig2, axs = plt.subplots(1, 3, figsize=(10, 3))\n    axs[0].imshow(d[0, :, :300].T, cmap=\"gray\", vmin=-d.max(), vmax=d.max())\n    axs[0].set_title(r\"$d$\")\n    axs[0].axis(\"tight\")\n    axs[1].imshow(d_adj[0, :, :300].T, cmap=\"gray\", vmin=-d_adj.max(), vmax=d_adj.max())\n    axs[1].set_title(r\"$d_{adj}$\")\n    axs[1].axis(\"tight\")\n    axs[2].imshow(d_inv[0, :, :300].T, cmap=\"gray\", vmin=-d.max(), vmax=d.max())\n    axs[2].set_title(r\"$d_{inv}$\")\n    axs[2].axis(\"tight\")\n\n    fig3, axs = plt.subplots(1, 3, figsize=(10, 3))\n    axs[0].imshow(d[nstot // 2, :, :300].T, cmap=\"gray\", vmin=-d.max(), vmax=d.max())\n    axs[0].set_title(r\"$d$\")\n    axs[0].axis(\"tight\")\n    axs[1].imshow(d_adj[nstot // 2, :, :300].T, cmap=\"gray\", vmin=-d_adj.max(), vmax=d_adj.max())\n    axs[1].set_title(r\"$d_{adj}$\")\n    axs[1].axis(\"tight\")\n    axs[2].imshow(d_inv[nstot // 2, :, :300].T, cmap=\"gray\", vmin=-d.max(), vmax=d.max())\n    axs[2].set_title(r\"$d_{inv}$\")\n    axs[2].axis(\"tight\")\n    plt.tight_layout()"
      ]
    }
  ],
  "metadata": {
    "kernelspec": {
      "display_name": "Python 3",
      "language": "python",
      "name": "python3"
    },
    "language_info": {
      "codemirror_mode": {
        "name": "ipython",
        "version": 3
      },
      "file_extension": ".py",
      "mimetype": "text/x-python",
      "name": "python",
      "nbconvert_exporter": "python",
      "pygments_lexer": "ipython3",
      "version": "3.11.12"
    }
  },
  "nbformat": 4,
  "nbformat_minor": 0
}