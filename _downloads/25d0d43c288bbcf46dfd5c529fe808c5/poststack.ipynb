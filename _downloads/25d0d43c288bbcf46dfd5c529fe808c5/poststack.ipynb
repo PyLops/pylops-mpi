{
  "cells": [
    {
      "cell_type": "markdown",
      "metadata": {},
      "source": [
        "\n# Post Stack Inversion - 3D\nThis tutorial demonstrates the implementation of a distributed 3D Post-stack inversion. It consists\nof a first part showing how to model a 3D synthetic post-stack seismic data from a 3D model of the\nsubsurface acoustic impedance in a distributed manner, following by a second part when inversion\nis carried out.\n\nThis tutorial builds on the :py:func:`pylops.avo.poststack.PoststackLinearModelling`\noperator to model 1d post-stack seismic traces 1d profiles of the subsurface acoustic impedence\nby means of the following equation\n\n\\begin{align}d(t) = \\frac{1}{2} w(t) * \\frac{\\mathrm{d}\\ln \\text{AI}(t)}{\\mathrm{d}t}\\end{align}\n\nwhere $\\text{AI}(t)$ is the acoustic impedance profile and $w(t)$ is\nthe time domain seismic wavelet. Being this inherently a 1d operator, we can easily\nset up a problem where one of the dimensions (here the y-dimension) is distributed\nacross ranks and each of them is in charge of performing modelling for a subvolume of\nthe entire domain. Using a compact matrix-vector notation, the entire problem can\nbe written as\n\n\\begin{align}\\begin{bmatrix}\n        \\mathbf{d}_{1}  \\\\\n        \\mathbf{d}_{2}  \\\\\n        \\vdots     \\\\\n        \\mathbf{d}_{N}\n    \\end{bmatrix} =\n    \\begin{bmatrix}\n        \\mathbf{G}_1  & \\mathbf{0}   &  \\ldots &  \\mathbf{0}  \\\\\n        \\mathbf{0}    & \\mathbf{G}_2 &  \\ldots &  \\mathbf{0}  \\\\\n        \\vdots        & \\vdots       &  \\ddots &  \\vdots         \\\\\n        \\mathbf{0}    & \\mathbf{0}   &  \\ldots &  \\mathbf{G}_N\n        \\end{bmatrix}\n    \\begin{bmatrix}\n        \\mathbf{ai}_{1}  \\\\\n        \\mathbf{ai}_{2}  \\\\\n        \\vdots     \\\\\n        \\mathbf{ai}_{N}\n    \\end{bmatrix}\\end{align}\n\nwhere $\\mathbf{G}_i$ is a post-stack modelling operator, $\\mathbf{d}_i$\nis the data, and $\\mathbf{ai}_i$ is the input model for the i-th portion of the model.\n\nThis problem can be easily set up using the :py:class:`pylops_mpi.basicoperators.MPIBlockDiag`\noperator.\n"
      ]
    },
    {
      "cell_type": "code",
      "execution_count": null,
      "metadata": {
        "collapsed": false
      },
      "outputs": [],
      "source": [
        "import numpy as np\nfrom scipy.signal import filtfilt\nfrom matplotlib import pyplot as plt\nfrom mpi4py import MPI\n\nfrom pylops.utils.wavelets import ricker\nfrom pylops.basicoperators import Transpose\nfrom pylops.avo.poststack import PoststackLinearModelling\n\nimport pylops_mpi\n\nplt.close(\"all\")\nrank = MPI.COMM_WORLD.Get_rank()\nsize = MPI.COMM_WORLD.Get_size()"
      ]
    },
    {
      "cell_type": "markdown",
      "metadata": {},
      "source": [
        "Let's start by defining all the parameters required by the\n:py:func:`pylops.avo.poststack.PoststackLinearModelling` operator.\n\n"
      ]
    },
    {
      "cell_type": "code",
      "execution_count": null,
      "metadata": {
        "collapsed": false
      },
      "outputs": [],
      "source": [
        "# Model\nmodel = np.load(\"../testdata/avo/poststack_model.npz\")\nx, z, m = model['x'][::3], model['z'], np.log(model['model'])[:, ::3]\n\n# Making m a 3D model\nny_i = 20  # size of model in y direction for rank i\ny = np.arange(ny_i)\nm3d_i = np.tile(m[:, :, np.newaxis], (1, 1, ny_i)).transpose((2, 1, 0))\nny_i, nx, nz = m3d_i.shape\n\n# Size of y at all ranks\nny = MPI.COMM_WORLD.allreduce(ny_i)\n\n# Smooth model\nnsmoothy, nsmoothx, nsmoothz = 5, 30, 20\nmback3d_i = filtfilt(np.ones(nsmoothy) / float(nsmoothy), 1, m3d_i, axis=0)\nmback3d_i = filtfilt(np.ones(nsmoothx) / float(nsmoothx), 1, mback3d_i, axis=1)\nmback3d_i = filtfilt(np.ones(nsmoothz) / float(nsmoothz), 1, mback3d_i, axis=2)\n\n# Wavelet\ndt = 0.004\nt0 = np.arange(nz) * dt\nntwav = 41\nwav = ricker(t0[:ntwav // 2 + 1], 15)[0]\n\n# Collecting all the m3d and mback3d at all ranks\nm3d = np.concatenate(MPI.COMM_WORLD.allgather(m3d_i))\nmback3d = np.concatenate(MPI.COMM_WORLD.allgather(mback3d_i))"
      ]
    },
    {
      "cell_type": "markdown",
      "metadata": {},
      "source": [
        "We now create the linear operator version of\n:py:func:`pylops.avo.poststack.PoststackLinearModelling` at each rank to model a\nsubset of the data along the y-axis. Such operators are passed\nto the :py:class:`pylops_mpi.basicoperators.MPIBlockDiag` operator, which is then used to perform\nthe different forward operations of each individual operator\nat different ranks to compute the overall data. Note that to simplify the\nhandling of the model and data, we split and distribute the first axis,\nand use :py:class:`pylops.Transpose` to rearrange the model and data\nin the form required by the :py:func:`pylops.avo.poststack.PoststackLinearModelling`\noperator.\n\n"
      ]
    },
    {
      "cell_type": "code",
      "execution_count": null,
      "metadata": {
        "collapsed": false
      },
      "outputs": [],
      "source": [
        "# Create flattened model data\nm3d_dist = pylops_mpi.DistributedArray(global_shape=ny * nx * nz)\nm3d_dist[:] = m3d_i.flatten()\n\n# Create flattened smooth model data\nmback3d_dist = pylops_mpi.DistributedArray(global_shape=ny * nx * nz)\nmback3d_dist[:] = mback3d_i.flatten()\n\n# LinearOperator PostStackLinearModelling\nPPop = PoststackLinearModelling(wav, nt0=nz, spatdims=(ny_i, nx))\nTop = Transpose((ny_i, nx, nz), (2, 0, 1))\nBDiag = pylops_mpi.basicoperators.MPIBlockDiag(ops=[Top.H @ PPop @ Top, ])\n\n# Data\nd_dist = BDiag @ m3d_dist\nd_local = d_dist.local_array.reshape((ny_i, nx, nz))\nd = d_dist.asarray().reshape((ny, nx, nz))\nd_0_dist = BDiag @ mback3d_dist\nd_0 = d_dist.asarray().reshape((ny, nx, nz))"
      ]
    },
    {
      "cell_type": "markdown",
      "metadata": {},
      "source": [
        "We perform 2 different kinds of inversions:\n\n* Inversion calculated iteratively using the :py:class:`pylops_mpi.optimization.cls_basic.CGLS` solver.\n\n* Inversion with spatial regularization using normal equations along all three dimensions (x, y and z).\n  This requires extending the operator and data in the following manner:\n\n\\begin{align}\\mathbf{N} =\n  \\begin{bmatrix}\n        \\mathbf{G}_1^H  & \\mathbf{0}   &  \\ldots &  \\mathbf{0}  \\\\\n        \\mathbf{0}    & \\mathbf{G}_2^H &  \\ldots &  \\mathbf{0}  \\\\\n        \\vdots        & \\vdots       &  \\ddots &  \\vdots         \\\\\n        \\mathbf{0}    & \\mathbf{0}   &  \\ldots &  \\mathbf{G}_N^H\n  \\end{bmatrix}\n  \\begin{bmatrix}\n        \\mathbf{G}_1  & \\mathbf{0}   &  \\ldots &  \\mathbf{0}  \\\\\n        \\mathbf{0}    & \\mathbf{G}_2 &  \\ldots &  \\mathbf{0}  \\\\\n        \\vdots        & \\vdots       &  \\ddots &  \\vdots         \\\\\n        \\mathbf{0}    & \\mathbf{0}   &  \\ldots &  \\mathbf{G}_N\n  \\end{bmatrix} + \\epsilon \\mathbf{L}^H \\mathbf{L} \\\\\\end{align}\n\n\\begin{align}\\begin{bmatrix}\n        \\mathbf{d}_{1}^{Norm}  \\\\\n        \\mathbf{d}_{2}^{Norm}  \\\\\n        \\vdots     \\\\\n        \\mathbf{d}_{N}^{Norm}\n  \\end{bmatrix} =\n  \\begin{bmatrix}\n        \\mathbf{G}_1^H  & \\mathbf{0}   &  \\ldots &  \\mathbf{0}  \\\\\n        \\mathbf{0}    & \\mathbf{G}_2^H &  \\ldots &  \\mathbf{0}  \\\\\n        \\vdots        & \\vdots       &  \\ddots &  \\vdots         \\\\\n        \\mathbf{0}    & \\mathbf{0}   &  \\ldots &  \\mathbf{G}_N^H\n  \\end{bmatrix}\n  \\begin{bmatrix}\n        \\mathbf{d}_{1}  \\\\\n        \\mathbf{d}_{2}  \\\\\n        \\vdots     \\\\\n        \\mathbf{d}_{N}\n  \\end{bmatrix}\\end{align}\n\nwhere $\\mathbf{L}$ is the :py:class:`pylops_mpi.basicoperators.MPILaplacian` operator\nwhich is used to apply second derivative along all three axes, $\\mathbf{N}$ is an operator computing the\nnormal equations, and $\\mathbf{d}^{Norm}$ is the data of the normal equation operator used for inversion.\n\n"
      ]
    },
    {
      "cell_type": "code",
      "execution_count": null,
      "metadata": {
        "collapsed": false
      },
      "outputs": [],
      "source": [
        "# Inversion using CGLS solver\nminv3d_iter_dist = pylops_mpi.optimization.basic.cgls(BDiag, d_dist, x0=mback3d_dist, niter=100, show=True)[0]\nminv3d_iter = minv3d_iter_dist.asarray().reshape((ny, nx, nz))"
      ]
    },
    {
      "cell_type": "code",
      "execution_count": null,
      "metadata": {
        "collapsed": false
      },
      "outputs": [],
      "source": [
        "# Regularized inversion with normal equations\nepsR = 1e2\nLapOp = pylops_mpi.MPILaplacian(dims=(ny, nx, nz), axes=(0, 1, 2), weights=(1, 1, 1),\n                                sampling=(1, 1, 1), dtype=BDiag.dtype)\nNormEqOp = BDiag.H @ BDiag + epsR * LapOp.H @ LapOp\ndnorm_dist = BDiag.H @ d_dist\nminv3d_ne_dist = pylops_mpi.optimization.basic.cg(NormEqOp, dnorm_dist, x0=mback3d_dist, niter=100, show=True)[0]\nminv3d_ne = minv3d_ne_dist.asarray().reshape((ny, nx, nz))"
      ]
    },
    {
      "cell_type": "code",
      "execution_count": null,
      "metadata": {
        "collapsed": false
      },
      "outputs": [],
      "source": [
        "# Regularized inversion with regularized equations\nStackOp = pylops_mpi.MPIStackedVStack([BDiag, np.sqrt(epsR) * LapOp])\nd0_dist = pylops_mpi.DistributedArray(global_shape=ny * nx * nz)\nd0_dist[:] = 0.\ndstack_dist = pylops_mpi.StackedDistributedArray([d_dist, d0_dist])\n\ndnorm_dist = BDiag.H @ d_dist\nminv3d_reg_dist = pylops_mpi.optimization.basic.cgls(StackOp, dstack_dist, x0=mback3d_dist, niter=100, show=False)[0]\nminv3d_reg = minv3d_reg_dist.asarray().reshape((ny, nx, nz))"
      ]
    },
    {
      "cell_type": "markdown",
      "metadata": {},
      "source": [
        "Finally, we display the modeling and inversion results\n\n"
      ]
    },
    {
      "cell_type": "code",
      "execution_count": null,
      "metadata": {
        "collapsed": false
      },
      "outputs": [],
      "source": [
        "if rank == 0:\n    # Check the distributed implementation gives the same result\n    # as the one running only on rank0\n    PPop0 = PoststackLinearModelling(wav, nt0=nz, spatdims=(ny, nx))\n    d0 = (PPop0 @ m3d.transpose(2, 0, 1)).transpose(1, 2, 0)\n    d0_0 = (PPop0 @ m3d.transpose(2, 0, 1)).transpose(1, 2, 0)\n\n    # Check the two distributed implementations give the same modelling results\n    print('Distr == Local', np.allclose(d, d0))\n    print('Smooth Distr == Local', np.allclose(d_0, d0_0))\n\n    # Visualize\n    fig, axs = plt.subplots(nrows=6, ncols=3, figsize=(9, 14), constrained_layout=True)\n    axs[0][0].imshow(m3d[5, :, :].T, cmap=\"gist_rainbow\", vmin=m.min(), vmax=m.max())\n    axs[0][0].set_title(\"Model x-z\")\n    axs[0][0].axis(\"tight\")\n    axs[0][1].imshow(m3d[:, 200, :].T, cmap=\"gist_rainbow\", vmin=m.min(), vmax=m.max())\n    axs[0][1].set_title(\"Model y-z\")\n    axs[0][1].axis(\"tight\")\n    axs[0][2].imshow(m3d[:, :, 220].T, cmap=\"gist_rainbow\", vmin=m.min(), vmax=m.max())\n    axs[0][2].set_title(\"Model y-z\")\n    axs[0][2].axis(\"tight\")\n\n    axs[1][0].imshow(mback3d[5, :, :].T, cmap=\"gist_rainbow\", vmin=m.min(), vmax=m.max())\n    axs[1][0].set_title(\"Smooth Model x-z\")\n    axs[1][0].axis(\"tight\")\n    axs[1][1].imshow(mback3d[:, 200, :].T, cmap=\"gist_rainbow\", vmin=m.min(), vmax=m.max())\n    axs[1][1].set_title(\"Smooth Model y-z\")\n    axs[1][1].axis(\"tight\")\n    axs[1][2].imshow(mback3d[:, :, 220].T, cmap=\"gist_rainbow\", vmin=m.min(), vmax=m.max())\n    axs[1][2].set_title(\"Smooth Model y-z\")\n    axs[1][2].axis(\"tight\")\n\n    axs[2][0].imshow(d[5, :, :].T, cmap=\"gray\", vmin=-1, vmax=1)\n    axs[2][0].set_title(\"Data x-z\")\n    axs[2][0].axis(\"tight\")\n    axs[2][1].imshow(d[:, 200, :].T, cmap='gray', vmin=-1, vmax=1)\n    axs[2][1].set_title('Data y-z')\n    axs[2][1].axis('tight')\n    axs[2][2].imshow(d[:, :, 220].T, cmap='gray', vmin=-1, vmax=1)\n    axs[2][2].set_title('Data x-y')\n    axs[2][2].axis('tight')\n\n    axs[3][0].imshow(minv3d_iter[5, :, :].T, cmap=\"gist_rainbow\", vmin=m.min(), vmax=m.max())\n    axs[3][0].set_title(\"Inverted Model iter x-z\")\n    axs[3][0].axis(\"tight\")\n    axs[3][1].imshow(minv3d_iter[:, 200, :].T, cmap='gist_rainbow', vmin=m.min(), vmax=m.max())\n    axs[3][1].set_title('Inverted Model iter y-z')\n    axs[3][1].axis('tight')\n    axs[3][2].imshow(minv3d_iter[:, :, 220].T, cmap='gist_rainbow', vmin=m.min(), vmax=m.max())\n    axs[3][2].set_title('Inverted Model iter x-y')\n    axs[3][2].axis('tight')\n\n    axs[4][0].imshow(minv3d_ne[5, :, :].T, cmap=\"gist_rainbow\", vmin=m.min(), vmax=m.max())\n    axs[4][0].set_title(\"Normal Equations Inverted Model iter x-z\")\n    axs[4][0].axis(\"tight\")\n    axs[4][1].imshow(minv3d_ne[:, 200, :].T, cmap='gist_rainbow', vmin=m.min(), vmax=m.max())\n    axs[4][1].set_title('Normal Equations Inverted Model iter y-z')\n    axs[4][1].axis('tight')\n    axs[4][2].imshow(minv3d_ne[:, :, 220].T, cmap='gist_rainbow', vmin=m.min(), vmax=m.max())\n    axs[4][2].set_title('Normal Equations Inverted Model iter x-y')\n    axs[4][2].axis('tight')\n\n    axs[5][0].imshow(minv3d_reg[5, :, :].T, cmap=\"gist_rainbow\", vmin=m.min(), vmax=m.max())\n    axs[5][0].set_title(\"Regularized Inverted Model iter x-z\")\n    axs[5][0].axis(\"tight\")\n    axs[5][1].imshow(minv3d_reg[:, 200, :].T, cmap='gist_rainbow', vmin=m.min(), vmax=m.max())\n    axs[5][1].set_title('Regularized Inverted Model iter y-z')\n    axs[5][1].axis('tight')\n    axs[5][2].imshow(minv3d_reg[:, :, 220].T, cmap='gist_rainbow', vmin=m.min(), vmax=m.max())\n    axs[5][2].set_title('Regularized Inverted Model iter x-y')\n    axs[5][2].axis('tight')"
      ]
    },
    {
      "cell_type": "markdown",
      "metadata": {},
      "source": [
        "To run this tutorial with our NCCL backend, refer to `sphx_glr_tutorials_poststack_nccl.py`\n\n"
      ]
    }
  ],
  "metadata": {
    "kernelspec": {
      "display_name": "Python 3",
      "language": "python",
      "name": "python3"
    },
    "language_info": {
      "codemirror_mode": {
        "name": "ipython",
        "version": 3
      },
      "file_extension": ".py",
      "mimetype": "text/x-python",
      "name": "python",
      "nbconvert_exporter": "python",
      "pygments_lexer": "ipython3",
      "version": "3.11.12"
    }
  },
  "nbformat": 4,
  "nbformat_minor": 0
}