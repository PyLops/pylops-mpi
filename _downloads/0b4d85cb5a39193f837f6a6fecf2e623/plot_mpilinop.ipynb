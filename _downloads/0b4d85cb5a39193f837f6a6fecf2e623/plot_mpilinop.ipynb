{
  "cells": [
    {
      "cell_type": "markdown",
      "metadata": {},
      "source": [
        "\n# MPILinearOperator\n\nThis example demonstrates the use of the :py:class:`pylops_mpi.MPILinearOperator` to wrap\nPyLops Operators. PyLops operators can be converted into :py:class:`pylops_mpi.MPILinearOperator`\nusing the :py:func:`pylops_mpi.asmpilinearoperator` method. Additionally, the example showcases\nhow to use these wrapped PyLops operators with other operators provided by PyLops-MPI.\n"
      ]
    },
    {
      "cell_type": "code",
      "execution_count": null,
      "metadata": {
        "collapsed": false
      },
      "outputs": [],
      "source": [
        "import numpy as np\nfrom mpi4py import MPI\nfrom matplotlib import pyplot as plt\n\nimport pylops\n\nimport pylops_mpi\n\nnp.random.seed(42)\nplt.close(\"all\")\nrank = MPI.COMM_WORLD.Get_rank()\nsize = MPI.COMM_WORLD.Get_size()"
      ]
    },
    {
      "cell_type": "markdown",
      "metadata": {},
      "source": [
        "Let's start by creating an instance of the :py:class:`pylops.FirstDerivative`,\nwhich we will then convert into an MPILinearOperator using the :py:func:`pylops_mpi.asmpilinearoperator`\nmethod.\n\n"
      ]
    },
    {
      "cell_type": "code",
      "execution_count": null,
      "metadata": {
        "collapsed": false
      },
      "outputs": [],
      "source": [
        "Ny, Nx = 11, 22\nFop = pylops.FirstDerivative(dims=(Ny, Nx), axis=0, dtype=np.float64)\nMop = pylops_mpi.asmpilinearoperator(Op=Fop)\nprint(Mop)"
      ]
    },
    {
      "cell_type": "markdown",
      "metadata": {},
      "source": [
        "Now, to carry out the matrix-vector product using the MPILinearOperator, we first\ncreate a :py:class:`pylops_mpi.DistributedArray` with the partition set to\n``pylops_mpi.Partition.BROADCAST``, denoted by $x$. The matrix-vector product\nis then computed at each rank, and the result returned is a :py:class:`pylops_mpi.DistributedArray`\nwith the same partitioning.\n\n"
      ]
    },
    {
      "cell_type": "code",
      "execution_count": null,
      "metadata": {
        "collapsed": false
      },
      "outputs": [],
      "source": [
        "x = pylops_mpi.DistributedArray(global_shape=Ny * Nx, partition=pylops_mpi.Partition.BROADCAST)\nx[:] = 1\ny = Mop @ x\nprint(f'y: {y}')"
      ]
    },
    {
      "cell_type": "markdown",
      "metadata": {},
      "source": [
        "Next, we can take the MPILinearOperator and combine it with other\noperators provided by pylops_mpi to create more advanced MPI operators.\nIn this example, we'll combine the :py:class:`pylops_mpi.MPILinearOperator` with\nthe :py:class:`pylops_mpi.basicoperators.MPIVStack` and perform matrix-vector\nmultiplication and adjoint matrix-vector multiplication.\n\n"
      ]
    },
    {
      "cell_type": "code",
      "execution_count": null,
      "metadata": {
        "collapsed": false
      },
      "outputs": [],
      "source": [
        "Sop = pylops.SecondDerivative(dims=(Ny, Nx), axis=0, dtype=np.float64)\nVStack = pylops_mpi.MPIVStack(ops=[(rank + 1) * Sop, ])\nFullOp = VStack @ Mop"
      ]
    },
    {
      "cell_type": "markdown",
      "metadata": {},
      "source": [
        "To perform the matrix vector multiplication on the full operator, we will use\na :py:class:`pylops_mpi.DistributedArray` with partition set to\n``pylops_mpi.Partition.BROADCAST``.\n\n"
      ]
    },
    {
      "cell_type": "code",
      "execution_count": null,
      "metadata": {
        "collapsed": false
      },
      "outputs": [],
      "source": [
        "X = np.zeros(shape=(Ny, Nx))\nX[Ny // 2, Nx // 2] = 1\nX1 = X.ravel()\nx = pylops_mpi.DistributedArray(global_shape=Ny * Nx, partition=pylops_mpi.Partition.BROADCAST)\nx[:] = X1\ny_dist = FullOp @ x\ny = y_dist.asarray().reshape((size * Ny, Nx))\nif rank == 0:\n    fig, ax = plt.subplots(nrows=1, ncols=2, figsize=(10, 3))\n    im1 = ax[0].imshow(X, interpolation=\"nearest\")\n    ax[0].set_title(\"$x$\")\n    ax[0].axis(\"tight\")\n    fig.colorbar(im1, ax=ax[0])\n    im2 = ax[1].imshow(y, interpolation=\"nearest\")\n    ax[1].set_title(\"$y$\")\n    ax[1].axis(\"tight\")\n    fig.colorbar(im2, ax=ax[1])\n    fig.suptitle(\"Forward\", fontsize=14, fontweight=\"bold\")"
      ]
    },
    {
      "cell_type": "markdown",
      "metadata": {},
      "source": [
        "For adjoint matrix-vector multiplication, we will use a :py:class:`pylops_mpi.DistributedArray`\nwith the partition set to ``pylops_mpi.Partition.SCATTER``. It is essential\nto ensure that the operators align appropriately with their corresponding\n$x$ during this process.\n\n"
      ]
    },
    {
      "cell_type": "code",
      "execution_count": null,
      "metadata": {
        "collapsed": false
      },
      "outputs": [],
      "source": [
        "x = pylops_mpi.DistributedArray(global_shape=size * Ny * Nx, partition=pylops_mpi.Partition.SCATTER)\nx[:] = X1\ny_dist = FullOp.H @ x\ny = y_dist.asarray().reshape((Ny, Nx))\nif rank == 0:\n    fig, ax = plt.subplots(nrows=1, ncols=2, figsize=(10, 3))\n    im1 = ax[0].imshow(X, interpolation=\"nearest\")\n    ax[0].set_title(\"$x$\")\n    ax[0].axis(\"tight\")\n    fig.colorbar(im1, ax=ax[0])\n    im2 = ax[1].imshow(y, interpolation=\"nearest\")\n    ax[1].set_title(\"$y$\")\n    ax[1].axis(\"tight\")\n    fig.colorbar(im2, ax=ax[1])\n    fig.suptitle(\"Adjoint\", fontsize=14, fontweight=\"bold\")"
      ]
    }
  ],
  "metadata": {
    "kernelspec": {
      "display_name": "Python 3",
      "language": "python",
      "name": "python3"
    },
    "language_info": {
      "codemirror_mode": {
        "name": "ipython",
        "version": 3
      },
      "file_extension": ".py",
      "mimetype": "text/x-python",
      "name": "python",
      "nbconvert_exporter": "python",
      "pygments_lexer": "ipython3",
      "version": "3.11.12"
    }
  },
  "nbformat": 4,
  "nbformat_minor": 0
}