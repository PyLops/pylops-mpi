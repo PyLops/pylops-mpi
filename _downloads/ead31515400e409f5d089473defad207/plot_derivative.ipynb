{
  "cells": [
    {
      "cell_type": "markdown",
      "metadata": {},
      "source": [
        "\n# Derivatives\nThis example demonstrates how to use pylops-mpi's derivative operators, namely\n:py:class:`pylops_mpi.basicoperators.MPIFirstDerivative`,\n:py:class:`pylops_mpi.basicoperators.MPISecondDerivative` and\n:py:class:`pylops_mpi.basicoperators.MPILaplacian`.\n\nWe will be focusing here on the case where the input array $x$ is assumed to be\nan n-dimensional :py:class:`pylops_mpi.DistributedArray` and the derivative is\napplied over the first axis (``axis=0``). Since the array is distributed\nover multiple processes, the derivative operators must take care of applying\nthe derivatives across the edges using the information from the previous/next\nprocesses, using the so-called ghost cells.\n\nDerivative operators are commonly used when solving inverse problems within\nregularization terms aimed at enforcing smooth solutions\n"
      ]
    },
    {
      "cell_type": "code",
      "execution_count": null,
      "metadata": {
        "collapsed": false
      },
      "outputs": [],
      "source": [
        "from matplotlib import pyplot as plt\nimport numpy as np\nfrom mpi4py import MPI\n\nimport pylops_mpi\n\nplt.close(\"all\")\nnp.random.seed(42)\n\nrank = MPI.COMM_WORLD.Get_rank()\nsize = MPI.COMM_WORLD.Get_size()"
      ]
    },
    {
      "cell_type": "markdown",
      "metadata": {},
      "source": [
        "Let\u2019s start by applying the first derivative on a :py:class:`pylops_mpi.DistributedArray`\nin the first direction(i.e. along axis=0) using the\n:py:class:`pylops_mpi.basicoperators.MPIFirstDerivative` operator.\n\n"
      ]
    },
    {
      "cell_type": "code",
      "execution_count": null,
      "metadata": {
        "collapsed": false
      },
      "outputs": [],
      "source": [
        "nx, ny = 11, 21\nx = np.zeros((nx, ny))\nx[nx // 2, ny // 2] = 1.0\n\nFop = pylops_mpi.MPIFirstDerivative((nx, ny), dtype=np.float64)\nx_dist = pylops_mpi.DistributedArray.to_dist(x=x.flatten())\ny_dist = Fop @ x_dist\ny = y_dist.asarray().reshape((nx, ny))\n\nif rank == 0:\n    fig, axs = plt.subplots(1, 2, figsize=(10, 3), sharey=True)\n    fig.suptitle(\n        \"First Derivative in 1st direction\", fontsize=12, fontweight=\"bold\", y=0.95\n    )\n    im = axs[0].imshow(x, interpolation=\"nearest\", cmap=\"rainbow\")\n    axs[0].axis(\"tight\")\n    axs[0].set_title(\"x\")\n    plt.colorbar(im, ax=axs[0])\n    im = axs[1].imshow(y, interpolation=\"nearest\", cmap=\"rainbow\")\n    axs[1].axis(\"tight\")\n    axs[1].set_title(\"y\")\n    plt.colorbar(im, ax=axs[1])\n    plt.tight_layout()\n    plt.subplots_adjust(top=0.8)"
      ]
    },
    {
      "cell_type": "markdown",
      "metadata": {},
      "source": [
        "We can now do the same for the second derivative using the\n:py:class:`pylops_mpi.basicoperators.MPISecondDerivative` operator.\n\n"
      ]
    },
    {
      "cell_type": "code",
      "execution_count": null,
      "metadata": {
        "collapsed": false
      },
      "outputs": [],
      "source": [
        "nx, ny = 11, 21\nx = np.zeros((nx, ny))\nx[nx // 2, ny // 2] = 1.0\n\nSop = pylops_mpi.MPISecondDerivative(dims=(nx, ny), dtype=np.float64)\nx_dist = pylops_mpi.DistributedArray.to_dist(x=x.flatten())\ny_dist = Sop @ x_dist\ny = y_dist.asarray().reshape((nx, ny))\n\nif rank == 0:\n    fig, axs = plt.subplots(1, 2, figsize=(10, 3), sharey=True)\n    fig.suptitle(\n        \"Second Derivative in 1st direction\", fontsize=12, fontweight=\"bold\", y=0.95\n    )\n    im = axs[0].imshow(x, interpolation=\"nearest\", cmap=\"rainbow\")\n    axs[0].axis(\"tight\")\n    axs[0].set_title(\"x\")\n    plt.colorbar(im, ax=axs[0])\n    im = axs[1].imshow(y, interpolation=\"nearest\", cmap=\"rainbow\")\n    axs[1].axis(\"tight\")\n    axs[1].set_title(\"y\")\n    plt.colorbar(im, ax=axs[1])\n    plt.tight_layout()\n    plt.subplots_adjust(top=0.8)"
      ]
    },
    {
      "cell_type": "markdown",
      "metadata": {},
      "source": [
        "We now use the :py:class:`pylops_mpi.basicoperators.MPILaplacian` to calculate\nsecond derivative along two directions of the distributed array.\nWe use a symmetrical as well as an asymmetrical (adding more weight to the\nderivative along one direction) version to achieve this.\n\n"
      ]
    },
    {
      "cell_type": "code",
      "execution_count": null,
      "metadata": {
        "collapsed": false
      },
      "outputs": [],
      "source": [
        "nx, ny = (12, 21)\nx = np.zeros((nx, ny))\nx[nx // 2, ny // 2] = 1.0\n\n# Symmetrical\nL2symop = pylops_mpi.MPILaplacian(dims=(nx, ny), weights=(1, 1), dtype=np.float64)\n\n# Asymmetrical\nL2asymop = pylops_mpi.MPILaplacian(dims=(nx, ny), weights=(3, 1), dtype=np.float64)\n\nx_dist = pylops_mpi.DistributedArray.to_dist(x=x.flatten())\nysym_dist = L2symop @ x_dist\nysym = ysym_dist.asarray().reshape((nx, ny))\nyasym_dist = L2asymop @ x_dist\nyasym = yasym_dist.asarray().reshape((nx, ny))\n\nif rank == 0:\n    fig, axs = plt.subplots(1, 3, figsize=(10, 3), sharey=True)\n    fig.suptitle(\"Laplacian\", fontsize=12, fontweight=\"bold\", y=0.95)\n    im = axs[0].imshow(x, interpolation=\"nearest\", cmap=\"rainbow\")\n    axs[0].axis(\"tight\")\n    axs[0].set_title(\"x\")\n    plt.colorbar(im, ax=axs[0])\n    im = axs[1].imshow(ysym, interpolation=\"nearest\", cmap=\"rainbow\")\n    axs[1].axis(\"tight\")\n    axs[1].set_title(\"y sym\")\n    plt.colorbar(im, ax=axs[1])\n    im = axs[2].imshow(yasym, interpolation=\"nearest\", cmap=\"rainbow\")\n    axs[2].axis(\"tight\")\n    axs[2].set_title(\"y asym\")\n    plt.colorbar(im, ax=axs[2])\n    plt.tight_layout()\n    plt.subplots_adjust(top=0.8)"
      ]
    }
  ],
  "metadata": {
    "kernelspec": {
      "display_name": "Python 3",
      "language": "python",
      "name": "python3"
    },
    "language_info": {
      "codemirror_mode": {
        "name": "ipython",
        "version": 3
      },
      "file_extension": ".py",
      "mimetype": "text/x-python",
      "name": "python",
      "nbconvert_exporter": "python",
      "pygments_lexer": "ipython3",
      "version": "3.11.4"
    }
  },
  "nbformat": 4,
  "nbformat_minor": 0
}