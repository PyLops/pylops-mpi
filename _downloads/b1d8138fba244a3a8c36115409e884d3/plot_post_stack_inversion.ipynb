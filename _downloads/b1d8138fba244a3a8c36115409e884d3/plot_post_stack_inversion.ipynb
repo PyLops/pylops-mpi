{
  "cells": [
    {
      "cell_type": "markdown",
      "metadata": {},
      "source": [
        "\n# Post Stack Inversion - 3D\nThis illustration demonstrates the implementation of a distributed 3D Post-stack inversion. It involves\nmodelling a 3D synthetic post-stack seismic data from a 3D model of the subsurface acoustic impedence.\n"
      ]
    },
    {
      "cell_type": "code",
      "execution_count": null,
      "metadata": {
        "collapsed": false
      },
      "outputs": [],
      "source": [
        "import numpy as np\nfrom scipy.signal import filtfilt\nfrom matplotlib import pyplot as plt\nfrom mpi4py import MPI\n\nfrom pylops.utils.wavelets import ricker\nfrom pylops.basicoperators import Transpose\nfrom pylops.avo.poststack import PoststackLinearModelling\nfrom pylops_mpi import MPIBlockDiag, DistributedArray\n\nplt.close(\"all\")\nrank = MPI.COMM_WORLD.Get_rank()\nsize = MPI.COMM_WORLD.Get_size()"
      ]
    },
    {
      "cell_type": "markdown",
      "metadata": {},
      "source": [
        "Let's start by defining all the parameters required by the\n:py:func:`pylops.avo.poststack.PoststackLinearModelling` operator.\n\n"
      ]
    },
    {
      "cell_type": "code",
      "execution_count": null,
      "metadata": {
        "collapsed": false
      },
      "outputs": [],
      "source": [
        "# Model\nmodel = np.load(\"../testdata/avo/poststack_model.npz\")\nx, z, m = model['x'], model['z'], np.log(model['model'])\n\n# Making m a 3D model\nny_i = 20  # size of model in y direction for rank i\ny = np.arange(ny_i)\nm3d_i = np.tile(m[:, :, np.newaxis], (1, 1, ny_i)).transpose((2, 1, 0))\nny_i, nx, nz = m3d_i.shape\n\n# Size of y at all ranks\nny = MPI.COMM_WORLD.allreduce(ny_i)\n\n# Smooth model\nnsmoothy, nsmoothx, nsmoothz = 5, 30, 20\nmback3d_i = filtfilt(np.ones(nsmoothy) / float(nsmoothy), 1, m3d_i, axis=0)\nmback3d_i = filtfilt(np.ones(nsmoothx) / float(nsmoothx), 1, mback3d_i, axis=1)\nmback3d_i = filtfilt(np.ones(nsmoothz) / float(nsmoothz), 1, mback3d_i, axis=2)\n\n# Wavelet\ndt = 0.004\nt0 = np.arange(nz) * dt\nntwav = 41\nwav = ricker(t0[:ntwav // 2 + 1], 15)[0]\n\n# Collecting all the m3d and mback3d at all ranks\nm3d = np.concatenate(MPI.COMM_WORLD.allgather(m3d_i))\nmback3d = np.concatenate(MPI.COMM_WORLD.allgather(mback3d_i))"
      ]
    },
    {
      "cell_type": "markdown",
      "metadata": {},
      "source": [
        "We now create the linear operator version of\n:py:func:`pylops.avo.poststack.PoststackLinearModelling` at each rank to model a\nsubset of the data along the y-axis. Such operators are passed\nto the :py:class:`pylops_mpi.basicoperators.MPIBlockDiag` operator, which is then used to perform\nthe different forward operations of each individual operator\nat different ranks to compute the overall data. Note that to simplify the\nhandling of the model and data, we split and distribute the first axis,\nand use :py:class:`pylops.Transpose` to rearrange the model and data\nin the form required by the :py:func:`pylops.avo.poststack.PoststackLinearModelling`\noperator.\n\n"
      ]
    },
    {
      "cell_type": "code",
      "execution_count": null,
      "metadata": {
        "collapsed": false
      },
      "outputs": [],
      "source": [
        "# Create flattened model data\nm3d_dist = DistributedArray(global_shape=ny * nx * nz)\nm3d_dist[:] = m3d_i.flatten()\n\n# LinearOperator PostStackLinearModelling\nPPop = PoststackLinearModelling(wav, nt0=nz, spatdims=(ny_i, nx))\nTop = Transpose((ny_i, nx, nz), (2, 0, 1))\nBDiag = MPIBlockDiag(ops=[Top.H @ PPop @ Top, ])\n\n# Data\nd_dist = BDiag @ m3d_dist\nd_local = d_dist.local_array.reshape((ny_i, nx, nz))\nd = d_dist.asarray().reshape((ny, nx, nz))\n\nif rank == 0:\n    # Check the distributed implementation gives the same result\n    # as the one running only on rank0\n    PPop0 = PoststackLinearModelling(wav, nt0=nz, spatdims=(ny, nx))\n    d0 = (PPop0 @ m3d.transpose(2, 0, 1)).transpose(1, 2, 0)\n\n    # Check the two distributed implementations give the same result\n    print('Distr == Local', np.allclose(d, d0))\n\n    # Visualize\n    fig, axs = plt.subplots(nrows=3, ncols=3, figsize=(9, 12), constrained_layout=True)\n    axs[0][0].imshow(m3d[5, :, :].T, cmap=\"gist_rainbow\", vmin=m.min(), vmax=m.max())\n    axs[0][0].set_title(\"Model x-z\")\n    axs[0][0].axis(\"tight\")\n    axs[0][1].imshow(m3d[:, 400, :].T, cmap=\"gist_rainbow\", vmin=m.min(), vmax=m.max())\n    axs[0][1].set_title(\"Model y-z\")\n    axs[0][1].axis(\"tight\")\n    axs[0][2].imshow(m3d[:, :, 220].T, cmap=\"gist_rainbow\", vmin=m.min(), vmax=m.max())\n    axs[0][2].set_title(\"Model y-z\")\n    axs[0][2].axis(\"tight\")\n\n    axs[1][0].imshow(mback3d[5, :, :].T, cmap=\"gist_rainbow\", vmin=m.min(), vmax=m.max())\n    axs[1][0].set_title(\"Smooth Model x-z\")\n    axs[1][0].axis(\"tight\")\n    axs[1][1].imshow(mback3d[:, 400, :].T, cmap=\"gist_rainbow\", vmin=m.min(), vmax=m.max())\n    axs[1][1].set_title(\"Smooth Model y-z\")\n    axs[1][1].axis(\"tight\")\n    axs[1][2].imshow(mback3d[:, :, 220].T, cmap=\"gist_rainbow\", vmin=m.min(), vmax=m.max())\n    axs[1][2].set_title(\"Smooth Model y-z\")\n    axs[1][2].axis(\"tight\")\n\n    axs[2][0].imshow(d[5, :, :].T, cmap=\"gray\", vmin=-1, vmax=1)\n    axs[2][0].set_title(\"Data x-z\")\n    axs[2][0].axis(\"tight\")\n    axs[2][1].imshow(d[:, 400, :].T, cmap='gray', vmin=-1, vmax=1)\n    axs[2][1].set_title('Data y-z')\n    axs[2][1].axis('tight')\n    axs[2][2].imshow(d[:, :, 220].T, cmap='gray', vmin=-1, vmax=1)\n    axs[2][2].set_title('Data x-y')\n    axs[2][2].axis('tight')"
      ]
    }
  ],
  "metadata": {
    "kernelspec": {
      "display_name": "Python 3",
      "language": "python",
      "name": "python3"
    },
    "language_info": {
      "codemirror_mode": {
        "name": "ipython",
        "version": 3
      },
      "file_extension": ".py",
      "mimetype": "text/x-python",
      "name": "python",
      "nbconvert_exporter": "python",
      "pygments_lexer": "ipython3",
      "version": "3.11.4"
    }
  },
  "nbformat": 4,
  "nbformat_minor": 0
}